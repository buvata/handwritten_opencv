{
 "cells": [
  {
   "cell_type": "code",
   "execution_count": 1,
   "metadata": {
    "colab": {
     "base_uri": "https://localhost:8080/",
     "height": 2416
    },
    "colab_type": "code",
    "executionInfo": {
     "elapsed": 240439,
     "status": "ok",
     "timestamp": 1536500730927,
     "user": {
      "displayName": "tài bùi",
      "photoUrl": "https://lh3.googleusercontent.com/a/default-user=s128",
      "userId": "113446466741417873365"
     },
     "user_tz": -420
    },
    "id": "o5qpdwJz7GDz",
    "outputId": "608e0326-f06f-4c94-a976-e5ca8e9a9780"
   },
   "outputs": [
    {
     "name": "stdout",
     "output_type": "stream",
     "text": [
      "Preconfiguring packages ...\n",
      "Selecting previously unselected package cron.\n",
      "(Reading database ... 18408 files and directories currently installed.)\n",
      "Preparing to unpack .../00-cron_3.0pl1-128ubuntu5_amd64.deb ...\n",
      "Unpacking cron (3.0pl1-128ubuntu5) ...\n",
      "Selecting previously unselected package libapparmor1:amd64.\n",
      "Preparing to unpack .../01-libapparmor1_2.11.0-2ubuntu17.1_amd64.deb ...\n",
      "Unpacking libapparmor1:amd64 (2.11.0-2ubuntu17.1) ...\n",
      "Selecting previously unselected package libdbus-1-3:amd64.\n",
      "Preparing to unpack .../02-libdbus-1-3_1.10.22-1ubuntu1_amd64.deb ...\n",
      "Unpacking libdbus-1-3:amd64 (1.10.22-1ubuntu1) ...\n",
      "Selecting previously unselected package dbus.\n",
      "Preparing to unpack .../03-dbus_1.10.22-1ubuntu1_amd64.deb ...\n",
      "Unpacking dbus (1.10.22-1ubuntu1) ...\n",
      "Selecting previously unselected package dirmngr.\n",
      "Preparing to unpack .../04-dirmngr_2.1.15-1ubuntu8.1_amd64.deb ...\n",
      "Unpacking dirmngr (2.1.15-1ubuntu8.1) ...\n",
      "Selecting previously unselected package distro-info-data.\n",
      "Preparing to unpack .../05-distro-info-data_0.36ubuntu0.2_all.deb ...\n",
      "Unpacking distro-info-data (0.36ubuntu0.2) ...\n",
      "Selecting previously unselected package libkmod2:amd64.\n",
      "Preparing to unpack .../06-libkmod2_24-1ubuntu2_amd64.deb ...\n",
      "Unpacking libkmod2:amd64 (24-1ubuntu2) ...\n",
      "Selecting previously unselected package kmod.\n",
      "Preparing to unpack .../07-kmod_24-1ubuntu2_amd64.deb ...\n",
      "Unpacking kmod (24-1ubuntu2) ...\n",
      "Selecting previously unselected package lsb-release.\n",
      "Preparing to unpack .../08-lsb-release_9.20160110ubuntu5_all.deb ...\n",
      "Unpacking lsb-release (9.20160110ubuntu5) ...\n",
      "Selecting previously unselected package libgirepository-1.0-1:amd64.\n",
      "Preparing to unpack .../09-libgirepository-1.0-1_1.54.1-1_amd64.deb ...\n",
      "Unpacking libgirepository-1.0-1:amd64 (1.54.1-1) ...\n",
      "Selecting previously unselected package gir1.2-glib-2.0:amd64.\n",
      "Preparing to unpack .../10-gir1.2-glib-2.0_1.54.1-1_amd64.deb ...\n",
      "Unpacking gir1.2-glib-2.0:amd64 (1.54.1-1) ...\n",
      "Selecting previously unselected package iso-codes.\n",
      "Preparing to unpack .../11-iso-codes_3.75-1_all.deb ...\n",
      "Unpacking iso-codes (3.75-1) ...\n",
      "Selecting previously unselected package libdbus-glib-1-2:amd64.\n",
      "Preparing to unpack .../12-libdbus-glib-1-2_0.108-2_amd64.deb ...\n",
      "Unpacking libdbus-glib-1-2:amd64 (0.108-2) ...\n",
      "Selecting previously unselected package python-apt-common.\n",
      "Preparing to unpack .../13-python-apt-common_1.4.0~beta3build2_all.deb ...\n",
      "Unpacking python-apt-common (1.4.0~beta3build2) ...\n",
      "Selecting previously unselected package python3-apt.\n",
      "Preparing to unpack .../14-python3-apt_1.4.0~beta3build2_amd64.deb ...\n",
      "Unpacking python3-apt (1.4.0~beta3build2) ...\n",
      "Selecting previously unselected package python3-dbus.\n",
      "Preparing to unpack .../15-python3-dbus_1.2.4-1build3_amd64.deb ...\n",
      "Unpacking python3-dbus (1.2.4-1build3) ...\n",
      "Selecting previously unselected package python3-gi.\n",
      "Preparing to unpack .../16-python3-gi_3.24.1-2build1_amd64.deb ...\n",
      "Unpacking python3-gi (3.24.1-2build1) ...\n",
      "Selecting previously unselected package module-init-tools.\n",
      "Preparing to unpack .../17-module-init-tools_24-1ubuntu2_all.deb ...\n",
      "Unpacking module-init-tools (24-1ubuntu2) ...\n",
      "Selecting previously unselected package python-apt.\n",
      "Preparing to unpack .../18-python-apt_1.4.0~beta3build2_amd64.deb ...\n",
      "Unpacking python-apt (1.4.0~beta3build2) ...\n",
      "Selecting previously unselected package python-pycurl.\n",
      "Preparing to unpack .../19-python-pycurl_7.43.0-2build2_amd64.deb ...\n",
      "Unpacking python-pycurl (7.43.0-2build2) ...\n",
      "Selecting previously unselected package python-software-properties.\n",
      "Preparing to unpack .../20-python-software-properties_0.96.24.17_all.deb ...\n",
      "Unpacking python-software-properties (0.96.24.17) ...\n",
      "Selecting previously unselected package python3-software-properties.\n",
      "Preparing to unpack .../21-python3-software-properties_0.96.24.17_all.deb ...\n",
      "Unpacking python3-software-properties (0.96.24.17) ...\n",
      "Selecting previously unselected package software-properties-common.\n",
      "Preparing to unpack .../22-software-properties-common_0.96.24.17_all.deb ...\n",
      "Unpacking software-properties-common (0.96.24.17) ...\n",
      "Selecting previously unselected package unattended-upgrades.\n",
      "Preparing to unpack .../23-unattended-upgrades_0.98ubuntu1.1_all.deb ...\n",
      "Unpacking unattended-upgrades (0.98ubuntu1.1) ...\n",
      "Setting up python-apt-common (1.4.0~beta3build2) ...\n",
      "Setting up python3-apt (1.4.0~beta3build2) ...\n",
      "Setting up iso-codes (3.75-1) ...\n",
      "Setting up distro-info-data (0.36ubuntu0.2) ...\n",
      "Setting up python-pycurl (7.43.0-2build2) ...\n",
      "Setting up lsb-release (9.20160110ubuntu5) ...\n",
      "Setting up libgirepository-1.0-1:amd64 (1.54.1-1) ...\n",
      "Setting up libkmod2:amd64 (24-1ubuntu2) ...\n",
      "Setting up gir1.2-glib-2.0:amd64 (1.54.1-1) ...\n",
      "Processing triggers for libc-bin (2.26-0ubuntu2.1) ...\n",
      "Setting up libapparmor1:amd64 (2.11.0-2ubuntu17.1) ...\n",
      "Setting up unattended-upgrades (0.98ubuntu1.1) ...\n",
      "\n",
      "Creating config file /etc/apt/apt.conf.d/20auto-upgrades with new version\n",
      "\n",
      "Creating config file /etc/apt/apt.conf.d/50unattended-upgrades with new version\n",
      "invoke-rc.d: could not determine current runlevel\n",
      "invoke-rc.d: policy-rc.d denied execution of start.\n",
      "Setting up dirmngr (2.1.15-1ubuntu8.1) ...\n",
      "Setting up cron (3.0pl1-128ubuntu5) ...\n",
      "Adding group `crontab' (GID 102) ...\n",
      "Done.\n",
      "update-rc.d: warning: start and stop actions are no longer supported; falling back to defaults\n",
      "update-rc.d: warning: stop runlevel arguments (1) do not match cron Default-Stop values (none)\n",
      "invoke-rc.d: could not determine current runlevel\n",
      "invoke-rc.d: policy-rc.d denied execution of start.\n",
      "Setting up libdbus-1-3:amd64 (1.10.22-1ubuntu1) ...\n",
      "Setting up kmod (24-1ubuntu2) ...\n",
      "Setting up libdbus-glib-1-2:amd64 (0.108-2) ...\n",
      "Setting up python3-gi (3.24.1-2build1) ...\n",
      "Setting up module-init-tools (24-1ubuntu2) ...\n",
      "Setting up python3-software-properties (0.96.24.17) ...\n",
      "Setting up dbus (1.10.22-1ubuntu1) ...\n",
      "Setting up python-apt (1.4.0~beta3build2) ...\n",
      "Setting up python3-dbus (1.2.4-1build3) ...\n",
      "Setting up python-software-properties (0.96.24.17) ...\n",
      "Setting up software-properties-common (0.96.24.17) ...\n",
      "Processing triggers for libc-bin (2.26-0ubuntu2.1) ...\n",
      "Processing triggers for dbus (1.10.22-1ubuntu1) ...\n",
      "gpg: keybox '/tmp/tmp38kmukx_/pubring.gpg' created\n",
      "gpg: /tmp/tmp38kmukx_/trustdb.gpg: trustdb created\n",
      "gpg: key AD5F235DF639B041: public key \"Launchpad PPA for Alessandro Strada\" imported\n",
      "gpg: Total number processed: 1\n",
      "gpg:               imported: 1\n",
      "Warning: apt-key output should not be parsed (stdout is not a terminal)\n",
      "Selecting previously unselected package libfuse2:amd64.\n",
      "(Reading database ... 19816 files and directories currently installed.)\n",
      "Preparing to unpack .../libfuse2_2.9.7-1ubuntu1_amd64.deb ...\n",
      "Unpacking libfuse2:amd64 (2.9.7-1ubuntu1) ...\n",
      "Selecting previously unselected package fuse.\n",
      "Preparing to unpack .../fuse_2.9.7-1ubuntu1_amd64.deb ...\n",
      "Unpacking fuse (2.9.7-1ubuntu1) ...\n",
      "Selecting previously unselected package google-drive-ocamlfuse.\n",
      "Preparing to unpack .../google-drive-ocamlfuse_0.6.21-0ubuntu2_amd64.deb ...\n",
      "Unpacking google-drive-ocamlfuse (0.6.21-0ubuntu2) ...\n",
      "Setting up libfuse2:amd64 (2.9.7-1ubuntu1) ...\n",
      "Processing triggers for libc-bin (2.26-0ubuntu2.1) ...\n",
      "Setting up fuse (2.9.7-1ubuntu1) ...\n",
      "Setting up google-drive-ocamlfuse (0.6.21-0ubuntu2) ...\n",
      "Please, open the following URL in a web browser: https://accounts.google.com/o/oauth2/auth?client_id=32555940559.apps.googleusercontent.com&redirect_uri=urn%3Aietf%3Awg%3Aoauth%3A2.0%3Aoob&scope=https%3A%2F%2Fwww.googleapis.com%2Fauth%2Fdrive&response_type=code&access_type=offline&approval_prompt=force\n",
      "··········\n",
      "Please, open the following URL in a web browser: https://accounts.google.com/o/oauth2/auth?client_id=32555940559.apps.googleusercontent.com&redirect_uri=urn%3Aietf%3Awg%3Aoauth%3A2.0%3Aoob&scope=https%3A%2F%2Fwww.googleapis.com%2Fauth%2Fdrive&response_type=code&access_type=offline&approval_prompt=force\n",
      "Please enter the verification code: Access token retrieved correctly.\n"
     ]
    }
   ],
   "source": [
    "!apt-get install -y -qq software-properties-common python-software-properties module-init-tools\n",
    "!add-apt-repository -y ppa:alessandro-strada/ppa 2>&1 > /dev/null\n",
    "!apt-get update -qq 2>&1 > /dev/null\n",
    "!apt-get -y install -qq google-drive-ocamlfuse fuse\n",
    "from google.colab import auth\n",
    "auth.authenticate_user()\n",
    "from oauth2client.client import GoogleCredentials\n",
    "creds = GoogleCredentials.get_application_default()\n",
    "import getpass\n",
    "!google-drive-ocamlfuse -headless -id={creds.client_id} -secret={creds.client_secret} < /dev/null 2>&1 | grep URL\n",
    "vcode = getpass.getpass()\n",
    "!echo {vcode} | google-drive-ocamlfuse -headless -id={creds.client_id} -secret={creds.client_secret}"
   ]
  },
  {
   "cell_type": "code",
   "execution_count": 0,
   "metadata": {
    "colab": {},
    "colab_type": "code",
    "id": "txFoNFYhBOSM"
   },
   "outputs": [],
   "source": [
    "!mkdir -p drive\n",
    "!google-drive-ocamlfuse drive"
   ]
  },
  {
   "cell_type": "code",
   "execution_count": 1,
   "metadata": {
    "colab": {},
    "colab_type": "code",
    "id": "96lzn3e57aav"
   },
   "outputs": [
    {
     "ename": "IOError",
     "evalue": "[Errno 2] No such file or directory: 'drive/app/Handwritten_data.csv'",
     "output_type": "error",
     "traceback": [
      "\u001b[0;31m---------------------------------------------------------------------------\u001b[0m",
      "\u001b[0;31mIOError\u001b[0m                                   Traceback (most recent call last)",
      "\u001b[0;32m<ipython-input-1-946d37552005>\u001b[0m in \u001b[0;36m<module>\u001b[0;34m()\u001b[0m\n\u001b[1;32m      6\u001b[0m \u001b[0;32mimport\u001b[0m \u001b[0mcv2\u001b[0m\u001b[0;34m\u001b[0m\u001b[0m\n\u001b[1;32m      7\u001b[0m \u001b[0;32mimport\u001b[0m \u001b[0mjson\u001b[0m\u001b[0;34m\u001b[0m\u001b[0m\n\u001b[0;32m----> 8\u001b[0;31m \u001b[0;32mwith\u001b[0m \u001b[0mopen\u001b[0m\u001b[0;34m(\u001b[0m\u001b[0;34m\"drive/app/Handwritten_data.csv\"\u001b[0m\u001b[0;34m)\u001b[0m \u001b[0;32mas\u001b[0m \u001b[0mcsv_file\u001b[0m\u001b[0;34m:\u001b[0m\u001b[0;34m\u001b[0m\u001b[0m\n\u001b[0m\u001b[1;32m      9\u001b[0m     \u001b[0mresult\u001b[0m \u001b[0;34m=\u001b[0m \u001b[0mcsv\u001b[0m\u001b[0;34m.\u001b[0m\u001b[0mreader\u001b[0m\u001b[0;34m(\u001b[0m\u001b[0mcsv_file\u001b[0m\u001b[0;34m)\u001b[0m\u001b[0;34m\u001b[0m\u001b[0m\n\u001b[1;32m     10\u001b[0m     \u001b[0mrows\u001b[0m \u001b[0;34m=\u001b[0m \u001b[0;34m[\u001b[0m\u001b[0;34m]\u001b[0m\u001b[0;34m\u001b[0m\u001b[0m\n",
      "\u001b[0;31mIOError\u001b[0m: [Errno 2] No such file or directory: 'drive/app/Handwritten_data.csv'"
     ]
    }
   ],
   "source": [
    "import numpy as np\n",
    "import csv\n",
    "import matplotlib\n",
    "import matplotlib.pyplot as plt\n",
    "import matplotlib\n",
    "import cv2\n",
    "import json\n",
    "with open(\"drive/app/Handwritten_data.csv\") as csv_file:\n",
    "    result = csv.reader(csv_file)\n",
    "    rows = []\n",
    "    \n",
    "    # đọc từng dòng của file, mỗi phần tử là một dòng\n",
    "    for row in result:\n",
    "        rows.append(row)"
   ]
  },
  {
   "cell_type": "code",
   "execution_count": 5,
   "metadata": {
    "colab": {
     "base_uri": "https://localhost:8080/",
     "height": 72
    },
    "colab_type": "code",
    "executionInfo": {
     "elapsed": 652,
     "status": "ok",
     "timestamp": 1536501028227,
     "user": {
      "displayName": "tài bùi",
      "photoUrl": "https://lh3.googleusercontent.com/a/default-user=s128",
      "userId": "113446466741417873365"
     },
     "user_tz": -420
    },
    "id": "plTE5ef-7azB",
    "outputId": "0a129450-a74e-42c9-d325-40375447bc61"
   },
   "outputs": [
    {
     "name": "stdout",
     "output_type": "stream",
     "text": [
      "['3', '0', '0', '0', '0', '0', '0', '0', '0', '0', '0', '0', '0', '0', '0', '0', '0', '0', '0', '0', '0', '0', '0', '0', '0', '0', '0', '0', '0', '0', '0', '0', '0', '0', '0', '0', '0', '0', '0', '0', '0', '0', '0', '0', '0', '0', '0', '0', '0', '0', '0', '0', '0', '0', '0', '0', '0', '0', '0', '0', '0', '0', '0', '0', '0', '0', '0', '0', '0', '0', '0', '0', '0', '0', '0', '0', '0', '0', '0', '0', '0', '0', '0', '0', '0', '0', '0', '0', '0', '0', '0', '0', '0', '0', '0', '0', '0', '0', '0', '0', '0', '0', '0', '0', '0', '0', '0', '0', '0', '0', '0', '0', '0', '0', '0', '0', '0', '107', '217', '204', '128', '128', '102', '37', '13', '0', '0', '0', '0', '0', '0', '0', '0', '0', '0', '0', '0', '0', '0', '0', '0', '0', '0', '0', '0', '231', '255', '252', '236', '236', '230', '216', '178', '158', '141', '73', '2', '0', '0', '0', '0', '0', '0', '0', '0', '0', '0', '0', '0', '0', '0', '0', '0', '118', '215', '233', '249', '255', '255', '255', '246', '241', '237', '218', '186', '124', '93', '15', '0', '0', '0', '0', '0', '0', '0', '0', '0', '0', '0', '0', '0', '20', '53', '59', '106', '124', '146', '202', '215', '255', '255', '255', '251', '230', '220', '176', '125', '18', '0', '0', '0', '0', '0', '0', '0', '0', '0', '0', '0', '0', '0', '0', '17', '23', '32', '54', '65', '99', '99', '158', '185', '247', '251', '248', '229', '151', '18', '0', '0', '0', '0', '0', '0', '0', '0', '0', '0', '0', '0', '5', '25', '0', '0', '0', '3', '11', '11', '39', '52', '81', '117', '169', '236', '238', '176', '39', '0', '0', '0', '0', '0', '0', '0', '0', '0', '0', '0', '25', '164', '89', '0', '0', '0', '0', '0', '0', '0', '0', '19', '47', '110', '255', '253', '133', '0', '0', '0', '0', '0', '0', '0', '0', '0', '0', '0', '27', '232', '193', '0', '0', '0', '0', '0', '0', '0', '0', '0', '0', '17', '123', '242', '223', '37', '0', '0', '0', '0', '0', '0', '0', '0', '0', '0', '15', '215', '233', '14', '0', '0', '0', '0', '0', '0', '0', '0', '0', '0', '15', '207', '254', '111', '0', '0', '0', '0', '0', '0', '0', '0', '0', '0', '5', '146', '246', '105', '2', '0', '0', '0', '0', '0', '0', '0', '0', '0', '0', '121', '255', '155', '0', '0', '0', '0', '0', '0', '0', '0', '0', '0', '0', '87', '255', '216', '16', '0', '0', '0', '0', '0', '0', '0', '0', '0', '0', '37', '255', '206', '0', '0', '0', '0', '0', '0', '0', '0', '0', '0', '0', '67', '251', '255', '51', '0', '0', '0', '0', '0', '0', '0', '0', '0', '0', '69', '255', '255', '0', '0', '0', '0', '0', '0', '0', '0', '0', '0', '0', '28', '215', '255', '109', '0', '0', '0', '0', '0', '0', '0', '0', '0', '25', '183', '255', '229', '0', '0', '0', '0', '0', '0', '0', '0', '0', '0', '0', '0', '142', '255', '187', '0', '0', '0', '0', '0', '0', '0', '0', '6', '127', '246', '255', '162', '0', '0', '0', '0', '0', '0', '0', '0', '0', '0', '0', '0', '89', '255', '244', '33', '0', '0', '0', '0', '0', '0', '3', '71', '243', '255', '232', '75', '0', '0', '0', '0', '0', '0', '0', '0', '0', '0', '0', '0', '119', '255', '254', '126', '0', '0', '0', '0', '8', '39', '68', '202', '255', '254', '151', '1', '0', '0', '0', '0', '0', '0', '0', '0', '0', '0', '0', '0', '212', '255', '255', '207', '36', '32', '42', '59', '81', '165', '218', '255', '245', '197', '48', '0', '0', '0', '0', '0', '0', '0', '0', '0', '0', '0', '0', '0', '219', '255', '255', '249', '165', '151', '183', '233', '241', '255', '251', '239', '174', '33', '0', '0', '0', '0', '0', '0', '0', '0', '0', '0', '0', '0', '0', '0', '141', '241', '255', '255', '255', '255', '255', '255', '240', '225', '198', '151', '24', '0', '0', '0', '0', '0', '0', '0', '0', '0', '0', '0', '0', '0', '0', '0', '28', '153', '217', '217', '217', '217', '217', '217', '149', '80', '26', '0', '0', '0', '0', '0', '0', '0', '0', '0', '0', '0', '0', '0', '0', '0', '0', '0', '0', '0', '0', '0', '0', '0', '0', '0', '0', '0', '0', '0', '0', '0', '0', '0', '0', '0', '0', '0', '0', '0', '0', '0', '0', '0', '0', '0', '0', '0', '0', '0', '0', '0', '0', '0', '0', '0', '0', '0', '0', '0', '0', '0', '0', '0', '0', '0', '0', '0', '0', '0', '0', '0', '0', '0', '0', '0', '0', '0', '0', '0', '0', '0', '0', '0', '0', '0', '0', '0', '0', '0', '0', '0', '0', '0', '0', '0', '0', '0', '0', '0', '0', '0', '0', '0', '0', '0', '0', '0', '0', '0', '0', '0', '0', '0', '0', '0', '0', '0', '0', '0', '0', '0']\n",
      "(785,)\n"
     ]
    }
   ],
   "source": [
    "# 1 anh 28*28 , A-0 ; B-1, C-2, D-3,.....\n",
    "print(rows[50000])\n",
    "print(np.shape(rows[50000]))"
   ]
  },
  {
   "cell_type": "code",
   "execution_count": 6,
   "metadata": {
    "colab": {
     "base_uri": "https://localhost:8080/",
     "height": 402
    },
    "colab_type": "code",
    "executionInfo": {
     "elapsed": 671,
     "status": "ok",
     "timestamp": 1536501031332,
     "user": {
      "displayName": "tài bùi",
      "photoUrl": "https://lh3.googleusercontent.com/a/default-user=s128",
      "userId": "113446466741417873365"
     },
     "user_tz": -420
    },
    "id": "-bGDUiLf7a2e",
    "outputId": "c3ecf112-86ca-4afb-bae6-7d026187b192"
   },
   "outputs": [
    {
     "name": "stdout",
     "output_type": "stream",
     "text": [
      "['3', '0', '0', '0', '0', '0', '0', '0', '0', '0', '0', '0', '0', '0', '0', '0', '0', '0', '0', '0', '0', '0', '0', '0', '0', '0', '0', '0', '0', '0', '0', '0', '0', '0', '0', '0', '0', '0', '0', '0', '0', '0', '0', '0', '0', '0', '0', '0', '0', '0', '0', '0', '0', '0', '0', '0', '0', '0', '0', '0', '0', '0', '0', '0', '0', '0', '0', '0', '0', '0', '0', '0', '0', '0', '0', '0', '0', '0', '0', '0', '0', '0', '0', '0', '0', '0', '0', '0', '0', '0', '0', '0', '0', '0', '0', '0', '0', '0', '0', '0', '0', '0', '0', '0', '0', '0', '0', '0', '0', '0', '0', '0', '0', '0', '0', '0', '0', '107', '217', '204', '128', '128', '102', '37', '13', '0', '0', '0', '0', '0', '0', '0', '0', '0', '0', '0', '0', '0', '0', '0', '0', '0', '0', '0', '0', '231', '255', '252', '236', '236', '230', '216', '178', '158', '141', '73', '2', '0', '0', '0', '0', '0', '0', '0', '0', '0', '0', '0', '0', '0', '0', '0', '0', '118', '215', '233', '249', '255', '255', '255', '246', '241', '237', '218', '186', '124', '93', '15', '0', '0', '0', '0', '0', '0', '0', '0', '0', '0', '0', '0', '0', '20', '53', '59', '106', '124', '146', '202', '215', '255', '255', '255', '251', '230', '220', '176', '125', '18', '0', '0', '0', '0', '0', '0', '0', '0', '0', '0', '0', '0', '0', '0', '17', '23', '32', '54', '65', '99', '99', '158', '185', '247', '251', '248', '229', '151', '18', '0', '0', '0', '0', '0', '0', '0', '0', '0', '0', '0', '0', '5', '25', '0', '0', '0', '3', '11', '11', '39', '52', '81', '117', '169', '236', '238', '176', '39', '0', '0', '0', '0', '0', '0', '0', '0', '0', '0', '0', '25', '164', '89', '0', '0', '0', '0', '0', '0', '0', '0', '19', '47', '110', '255', '253', '133', '0', '0', '0', '0', '0', '0', '0', '0', '0', '0', '0', '27', '232', '193', '0', '0', '0', '0', '0', '0', '0', '0', '0', '0', '17', '123', '242', '223', '37', '0', '0', '0', '0', '0', '0', '0', '0', '0', '0', '15', '215', '233', '14', '0', '0', '0', '0', '0', '0', '0', '0', '0', '0', '15', '207', '254', '111', '0', '0', '0', '0', '0', '0', '0', '0', '0', '0', '5', '146', '246', '105', '2', '0', '0', '0', '0', '0', '0', '0', '0', '0', '0', '121', '255', '155', '0', '0', '0', '0', '0', '0', '0', '0', '0', '0', '0', '87', '255', '216', '16', '0', '0', '0', '0', '0', '0', '0', '0', '0', '0', '37', '255', '206', '0', '0', '0', '0', '0', '0', '0', '0', '0', '0', '0', '67', '251', '255', '51', '0', '0', '0', '0', '0', '0', '0', '0', '0', '0', '69', '255', '255', '0', '0', '0', '0', '0', '0', '0', '0', '0', '0', '0', '28', '215', '255', '109', '0', '0', '0', '0', '0', '0', '0', '0', '0', '25', '183', '255', '229', '0', '0', '0', '0', '0', '0', '0', '0', '0', '0', '0', '0', '142', '255', '187', '0', '0', '0', '0', '0', '0', '0', '0', '6', '127', '246', '255', '162', '0', '0', '0', '0', '0', '0', '0', '0', '0', '0', '0', '0', '89', '255', '244', '33', '0', '0', '0', '0', '0', '0', '3', '71', '243', '255', '232', '75', '0', '0', '0', '0', '0', '0', '0', '0', '0', '0', '0', '0', '119', '255', '254', '126', '0', '0', '0', '0', '8', '39', '68', '202', '255', '254', '151', '1', '0', '0', '0', '0', '0', '0', '0', '0', '0', '0', '0', '0', '212', '255', '255', '207', '36', '32', '42', '59', '81', '165', '218', '255', '245', '197', '48', '0', '0', '0', '0', '0', '0', '0', '0', '0', '0', '0', '0', '0', '219', '255', '255', '249', '165', '151', '183', '233', '241', '255', '251', '239', '174', '33', '0', '0', '0', '0', '0', '0', '0', '0', '0', '0', '0', '0', '0', '0', '141', '241', '255', '255', '255', '255', '255', '255', '240', '225', '198', '151', '24', '0', '0', '0', '0', '0', '0', '0', '0', '0', '0', '0', '0', '0', '0', '0', '28', '153', '217', '217', '217', '217', '217', '217', '149', '80', '26', '0', '0', '0', '0', '0', '0', '0', '0', '0', '0', '0', '0', '0', '0', '0', '0', '0', '0', '0', '0', '0', '0', '0', '0', '0', '0', '0', '0', '0', '0', '0', '0', '0', '0', '0', '0', '0', '0', '0', '0', '0', '0', '0', '0', '0', '0', '0', '0', '0', '0', '0', '0', '0', '0', '0', '0', '0', '0', '0', '0', '0', '0', '0', '0', '0', '0', '0', '0', '0', '0', '0', '0', '0', '0', '0', '0', '0', '0', '0', '0', '0', '0', '0', '0', '0', '0', '0', '0', '0', '0', '0', '0', '0', '0', '0', '0', '0', '0', '0', '0', '0', '0', '0', '0', '0', '0', '0', '0', '0', '0', '0', '0', '0', '0', '0', '0', '0', '0', '0', '0', '0']\n"
     ]
    },
    {
     "data": {
      "text/plain": [
       "<matplotlib.image.AxesImage at 0x7f4215b6ac50>"
      ]
     },
     "execution_count": 6,
     "metadata": {
      "tags": []
     },
     "output_type": "execute_result"
    },
    {
     "data": {
      "image/png": "[encoded data removed]",
      "text/plain": [
       "<matplotlib.figure.Figure at 0x7f4215b96128>"
      ]
     },
     "metadata": {
      "tags": []
     },
     "output_type": "display_data"
    }
   ],
   "source": [
    "letter=rows[50000]\n",
    "\n",
    "x=np.array([int(j) for j in letter[1:]])\n",
    "x=x.reshape(28,28)\n",
    "\n",
    "print(letter)\n",
    "plt.imshow(x)\n",
    "\n",
    "# la chu D"
   ]
  },
  {
   "cell_type": "code",
   "execution_count": 0,
   "metadata": {
    "colab": {},
    "colab_type": "code",
    "id": "DMzTUgAv7a7l"
   },
   "outputs": [],
   "source": [
    "train_data=[]\n",
    "train_label=[]\n",
    "\n",
    "for letter in rows:\n",
    "    if (letter[0]=='0') or (letter[0]=='1')or (letter[0]=='2') or (letter[0]=='3'):\n",
    "        x=np.array([int(j) for j in letter[1:]])\n",
    "        x=x.reshape(28,28)\n",
    "        train_data.append(x)\n",
    "        train_label.append(int(letter[0]))\n",
    "\n",
    "    else:\n",
    "        break\n",
    "    \n",
    " "
   ]
  },
  {
   "cell_type": "code",
   "execution_count": 8,
   "metadata": {
    "colab": {
     "base_uri": "https://localhost:8080/",
     "height": 34
    },
    "colab_type": "code",
    "executionInfo": {
     "elapsed": 663,
     "status": "ok",
     "timestamp": 1536501119196,
     "user": {
      "displayName": "tài bùi",
      "photoUrl": "https://lh3.googleusercontent.com/a/default-user=s128",
      "userId": "113446466741417873365"
     },
     "user_tz": -420
    },
    "id": "zcDc6SPD7a_2",
    "outputId": "071309a4-fb2e-4ba3-8fc7-db78b8b2cea6"
   },
   "outputs": [
    {
     "name": "stdout",
     "output_type": "stream",
     "text": [
      "56081\n"
     ]
    }
   ],
   "source": [
    "print(len(train_label))"
   ]
  },
  {
   "cell_type": "code",
   "execution_count": 0,
   "metadata": {
    "colab": {},
    "colab_type": "code",
    "id": "iTyK43h47bFL"
   },
   "outputs": [],
   "source": [
    "# random du lieu \n",
    "import random \n",
    "shuffle=list(range(56081))\n",
    "\n",
    "train_data=np.array(train_data)\n",
    "train_label=np.array(train_label)\n",
    "\n",
    "train_data=train_data[shuffle]\n",
    "train_label=train_label[shuffle]"
   ]
  },
  {
   "cell_type": "code",
   "execution_count": 0,
   "metadata": {
    "colab": {},
    "colab_type": "code",
    "id": "THK1cLBty6Xr"
   },
   "outputs": [],
   "source": [
    "\n",
    "train_x = train_data[:50000]\n",
    "train_y = train_label[:50000]\n",
    "\n",
    "val_x = train_data[50000:55000]\n",
    "val_y = train_label[50000:55000]\n",
    "\n",
    "test_x = train_data[55000:]\n",
    "test_y = train_label[55000:]\n"
   ]
  },
  {
   "cell_type": "code",
   "execution_count": 11,
   "metadata": {
    "colab": {
     "base_uri": "https://localhost:8080/",
     "height": 243
    },
    "colab_type": "code",
    "executionInfo": {
     "elapsed": 5385,
     "status": "ok",
     "timestamp": 1536501229554,
     "user": {
      "displayName": "tài bùi",
      "photoUrl": "https://lh3.googleusercontent.com/a/default-user=s128",
      "userId": "113446466741417873365"
     },
     "user_tz": -420
    },
    "id": "5oS1Gq80_gCU",
    "outputId": "bafbf080-862c-48c2-c46b-e5aa72b6538b"
   },
   "outputs": [
    {
     "name": "stdout",
     "output_type": "stream",
     "text": [
      "Collecting tflearn\n",
      "\u001b[?25l  Downloading https://files.pythonhosted.org/packages/16/ec/e9ce1b52e71f6dff3bd944f020cef7140779e783ab27512ea7c7275ddee5/tflearn-0.3.2.tar.gz (98kB)\n",
      "\u001b[K    100% |████████████████████████████████| 102kB 3.2MB/s \n",
      "\u001b[?25hRequirement already satisfied: numpy in /usr/local/lib/python3.6/dist-packages (from tflearn) (1.14.5)\n",
      "Requirement already satisfied: six in /usr/local/lib/python3.6/dist-packages (from tflearn) (1.11.0)\n",
      "Requirement already satisfied: Pillow in /usr/local/lib/python3.6/dist-packages (from tflearn) (4.0.0)\n",
      "Requirement already satisfied: olefile in /usr/local/lib/python3.6/dist-packages (from Pillow->tflearn) (0.45.1)\n",
      "Building wheels for collected packages: tflearn\n",
      "  Running setup.py bdist_wheel for tflearn ... \u001b[?25l-\b \b\\\b \bdone\n",
      "\u001b[?25h  Stored in directory: /root/.cache/pip/wheels/d0/f6/69/0ef3ee395aac2e5d15d89efd29a9a216f3c27767b43b72c006\n",
      "Successfully built tflearn\n",
      "Installing collected packages: tflearn\n",
      "Successfully installed tflearn-0.3.2\n"
     ]
    }
   ],
   "source": [
    "!pip3 install tflearn \n"
   ]
  },
  {
   "cell_type": "code",
   "execution_count": 0,
   "metadata": {
    "colab": {},
    "colab_type": "code",
    "id": "xSHsZXjUy6m3"
   },
   "outputs": [],
   "source": [
    "import tensorflow as tf\n",
    "import tflearn\n",
    "from tflearn.layers.conv import conv_2d, max_pool_2d\n",
    "from tflearn.layers.core import input_data, dropout, fully_connected\n",
    "from tflearn.layers import regression\n",
    "from tflearn.data_utils import to_categorical\n"
   ]
  },
  {
   "cell_type": "code",
   "execution_count": 0,
   "metadata": {
    "colab": {},
    "colab_type": "code",
    "id": "1BkcNvAIy6sk"
   },
   "outputs": [],
   "source": [
    "BATCH_SIZE = 32\n",
    "IMG_SIZE = 28\n",
    "N_CLASSES = 4\n",
    "LR = 0.001\n",
    "N_EPOCHS = 15"
   ]
  },
  {
   "cell_type": "code",
   "execution_count": 14,
   "metadata": {
    "colab": {
     "base_uri": "https://localhost:8080/",
     "height": 141
    },
    "colab_type": "code",
    "executionInfo": {
     "elapsed": 4476,
     "status": "ok",
     "timestamp": 1536501675738,
     "user": {
      "displayName": "tài bùi",
      "photoUrl": "https://lh3.googleusercontent.com/a/default-user=s128",
      "userId": "113446466741417873365"
     },
     "user_tz": -420
    },
    "id": "KPBVnJuIy6vb",
    "outputId": "c472bdc9-6db3-4472-c1e3-9fe872f90079"
   },
   "outputs": [
    {
     "name": "stdout",
     "output_type": "stream",
     "text": [
      "WARNING:tensorflow:From /usr/local/lib/python3.6/dist-packages/tflearn/initializations.py:119: UniformUnitScaling.__init__ (from tensorflow.python.ops.init_ops) is deprecated and will be removed in a future version.\n",
      "Instructions for updating:\n",
      "Use tf.initializers.variance_scaling instead with distribution=uniform to get equivalent behavior.\n",
      "WARNING:tensorflow:From /usr/local/lib/python3.6/dist-packages/tflearn/objectives.py:66: calling reduce_sum (from tensorflow.python.ops.math_ops) with keep_dims is deprecated and will be removed in a future version.\n",
      "Instructions for updating:\n",
      "keep_dims is deprecated, use keepdims instead\n"
     ]
    }
   ],
   "source": [
    "tf.reset_default_graph()\n",
    "\n",
    "network = input_data(shape=[None, IMG_SIZE, IMG_SIZE, 1]) #1\n",
    "\n",
    "network = conv_2d(network, 32, 3, activation='relu') #2\n",
    "network = max_pool_2d(network, 2) #3\n",
    "\n",
    "network = conv_2d(network, 64, 3, activation='relu')\n",
    "network = max_pool_2d(network, 2)\n",
    "\n",
    "network = conv_2d(network, 32, 3, activation='relu')\n",
    "network = max_pool_2d(network, 2)\n",
    "\n",
    "network = conv_2d(network, 64, 3, activation='relu')\n",
    "network = max_pool_2d(network, 2)\n",
    "\n",
    "network = conv_2d(network, 32, 3, activation='relu')\n",
    "network = max_pool_2d(network, 2)\n",
    "\n",
    "network = conv_2d(network, 64, 3, activation='relu')\n",
    "network = max_pool_2d(network, 2)\n",
    "\n",
    "\n",
    "network = fully_connected(network, 1024, activation='relu') #4\n",
    "network = dropout(network, 0.8) #5\n",
    "\n",
    "network = fully_connected(network, N_CLASSES, activation='softmax')#6\n",
    "network = regression(network)\n",
    "\n",
    "model = tflearn.DNN(network) #7"
   ]
  },
  {
   "cell_type": "code",
   "execution_count": 0,
   "metadata": {
    "colab": {},
    "colab_type": "code",
    "id": "qdPll_x6y60x"
   },
   "outputs": [],
   "source": [
    "# resize input,output \n",
    "train_x=train_x.reshape(-1,IMG_SIZE,IMG_SIZE,1)\n",
    "val_x=val_x.reshape(-1,IMG_SIZE,IMG_SIZE,1)\n",
    "test_x=test_x.reshape(-1,IMG_SIZE,IMG_SIZE,1)\n",
    "\n",
    "# output : one hot vector \n",
    "original_test_y = test_y # được sử dụng để test \n",
    "\n",
    "train_y = to_categorical(train_y, N_CLASSES)\n",
    "val_y = to_categorical(val_y, N_CLASSES)\n",
    "test_y = to_categorical(test_y, N_CLASSES)"
   ]
  },
  {
   "cell_type": "code",
   "execution_count": 16,
   "metadata": {
    "colab": {
     "base_uri": "https://localhost:8080/",
     "height": 104
    },
    "colab_type": "code",
    "executionInfo": {
     "elapsed": 127,
     "status": "ok",
     "timestamp": 1536501972866,
     "user": {
      "displayName": "tài bùi",
      "photoUrl": "https://lh3.googleusercontent.com/a/default-user=s128",
      "userId": "113446466741417873365"
     },
     "user_tz": -420
    },
    "id": "9Yu5YsRDy635",
    "outputId": "fc0ede82-edce-4739-c11f-99dfd463cbf3"
   },
   "outputs": [
    {
     "name": "stdout",
     "output_type": "stream",
     "text": [
      "Training Step: 11729  | total loss: \u001b[1m\u001b[32m0.00470\u001b[0m\u001b[0m | time: 14.022s\n",
      "| Adam | epoch: 015 | loss: 0.00470 - acc: 0.9994 -- iter: 49984/50000\n",
      "Training Step: 11730  | total loss: \u001b[1m\u001b[32m0.00424\u001b[0m\u001b[0m | time: 15.105s\n",
      "| Adam | epoch: 015 | loss: 0.00424 - acc: 0.9995 | val_loss: 0.02848 - val_acc: 0.9924 -- iter: 50000/50000\n",
      "--\n"
     ]
    }
   ],
   "source": [
    "model.fit(train_x, train_y, n_epoch=N_EPOCHS, validation_set=(val_x, val_y), show_metric=True)"
   ]
  },
  {
   "cell_type": "code",
   "execution_count": 18,
   "metadata": {
    "colab": {
     "base_uri": "https://localhost:8080/",
     "height": 34
    },
    "colab_type": "code",
    "executionInfo": {
     "elapsed": 12942,
     "status": "ok",
     "timestamp": 1536502086837,
     "user": {
      "displayName": "tài bùi",
      "photoUrl": "https://lh3.googleusercontent.com/a/default-user=s128",
      "userId": "113446466741417873365"
     },
     "user_tz": -420
    },
    "id": "elOPCsEmy67Y",
    "outputId": "f70fdf4f-b0c2-44b9-ad37-75d9a90ea98b"
   },
   "outputs": [
    {
     "name": "stdout",
     "output_type": "stream",
     "text": [
      "INFO:tensorflow:/content/drive/app/handwritten.tflearn is not in all_model_checkpoint_paths. Manually adding it.\n"
     ]
    }
   ],
   "source": [
    "model.save('drive/app/handwritten.tflearn')"
   ]
  },
  {
   "cell_type": "code",
   "execution_count": 20,
   "metadata": {
    "colab": {
     "base_uri": "https://localhost:8080/",
     "height": 34
    },
    "colab_type": "code",
    "executionInfo": {
     "elapsed": 3146,
     "status": "ok",
     "timestamp": 1536502112366,
     "user": {
      "displayName": "tài bùi",
      "photoUrl": "https://lh3.googleusercontent.com/a/default-user=s128",
      "userId": "113446466741417873365"
     },
     "user_tz": -420
    },
    "id": "pNsPGXmKy6yp",
    "outputId": "9ce0b535-4b28-4688-c879-84b341221eaf"
   },
   "outputs": [
    {
     "name": "stdout",
     "output_type": "stream",
     "text": [
      "INFO:tensorflow:Restoring parameters from /content/drive/app/handwritten.tflearn\n"
     ]
    }
   ],
   "source": [
    "model.load('drive/app/handwritten.tflearn')"
   ]
  },
  {
   "cell_type": "code",
   "execution_count": 0,
   "metadata": {
    "colab": {},
    "colab_type": "code",
    "id": "tsMP9oBQy6qQ"
   },
   "outputs": [],
   "source": [
    "# test data \n",
    "test_pred=model.predict(test_x)\n",
    "# chon gia tri max \n",
    "test_pred=np.argmax(test_pred,axis=-1)"
   ]
  },
  {
   "cell_type": "code",
   "execution_count": 22,
   "metadata": {
    "colab": {
     "base_uri": "https://localhost:8080/",
     "height": 34
    },
    "colab_type": "code",
    "executionInfo": {
     "elapsed": 720,
     "status": "ok",
     "timestamp": 1536502158880,
     "user": {
      "displayName": "tài bùi",
      "photoUrl": "https://lh3.googleusercontent.com/a/default-user=s128",
      "userId": "113446466741417873365"
     },
     "user_tz": -420
    },
    "id": "MgU1C4gBPCR1",
    "outputId": "4a5cafd4-2c6c-498a-e914-e30c1cd9d107"
   },
   "outputs": [
    {
     "name": "stdout",
     "output_type": "stream",
     "text": [
      "0.9944495837187789\n"
     ]
    }
   ],
   "source": [
    "print(np.sum(test_pred==original_test_y)/len(test_pred))"
   ]
  },
  {
   "cell_type": "code",
   "execution_count": 0,
   "metadata": {
    "colab": {},
    "colab_type": "code",
    "id": "ckjuAjR0PCZA"
   },
   "outputs": [],
   "source": []
  },
  {
   "cell_type": "code",
   "execution_count": 0,
   "metadata": {
    "colab": {},
    "colab_type": "code",
    "id": "IWtOjXUtPCdX"
   },
   "outputs": [],
   "source": []
  }
 ],
 "metadata": {
  "accelerator": "GPU",
  "colab": {
   "collapsed_sections": [],
   "name": "Handwritten.ipynb",
   "provenance": [],
   "version": "0.3.2"
  },
  "kernelspec": {
   "display_name": "Python 3",
   "language": "python",
   "name": "python3"
  },
  "language_info": {
   "codemirror_mode": {
    "name": "ipython",
    "version": 2
   },
   "file_extension": ".py",
   "mimetype": "text/x-python",
   "name": "python",
   "nbconvert_exporter": "python",
   "pygments_lexer": "ipython2",
   "version": "2.7.12"
  }
 },
 "nbformat": 4,
 "nbformat_minor": 1
}
