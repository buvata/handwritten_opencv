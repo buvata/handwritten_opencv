{
 "cells": [
  {
   "cell_type": "code",
   "execution_count": 11,
   "metadata": {},
   "outputs": [],
   "source": [
    "import cv2 \n",
    "import numpy as np \n",
    "import tensorflow as tf \n",
    "import json "
   ]
  },
  {
   "cell_type": "code",
   "execution_count": 19,
   "metadata": {},
   "outputs": [
    {
     "data": {
      "text/plain": [
       "(652, 489)"
      ]
     },
     "execution_count": 19,
     "metadata": {},
     "output_type": "execute_result"
    }
   ],
   "source": [
    "img=cv2.imread('/home/taibui/OpenCV/code/phieu.jpg',0)\n",
    "#img=cv2.imshow('abc',img)\n",
    "#cv2.waitKey(0)\n",
    "\n",
    "height, width =img.shape[:2]\n",
    "img = cv2.resize(img, (width/5, height/5), interpolation = cv2.INTER_AREA)\n",
    "img.shape"
   ]
  },
  {
   "cell_type": "code",
   "execution_count": 22,
   "metadata": {},
   "outputs": [],
   "source": [
    "# threshold blur , lam mờ ảnh, với ngưỡng \n",
    "blur = cv2.GaussianBlur(img,(5,5),0)\n",
    "thresh = cv2.adaptiveThreshold(blur,255,cv2.ADAPTIVE_THRESH_GAUSSIAN_C,cv2.THRESH_BINARY_INV,11,2)"
   ]
  },
  {
   "cell_type": "code",
   "execution_count": 20,
   "metadata": {},
   "outputs": [
    {
     "data": {
      "text/plain": [
       "255"
      ]
     },
     "execution_count": 20,
     "metadata": {},
     "output_type": "execute_result"
    }
   ],
   "source": [
    "#thresh=cv2.imshow('abc',thresh)\n",
    "#cv2.waitKey(0)"
   ]
  },
  {
   "cell_type": "code",
   "execution_count": 5,
   "metadata": {},
   "outputs": [],
   "source": [
    "#kernel = np.ones((3,3),np.uint8)\n",
    "#erosion = cv2.erode(thresh,kernel,iterations = 1)\n",
    "#cv2.imshow('asd',erosion)\n",
    "#cv2.waitKey()"
   ]
  },
  {
   "cell_type": "code",
   "execution_count": 23,
   "metadata": {},
   "outputs": [
    {
     "name": "stdout",
     "output_type": "stream",
     "text": [
      "40 40\n"
     ]
    },
    {
     "data": {
      "text/plain": [
       "255"
      ]
     },
     "execution_count": 23,
     "metadata": {},
     "output_type": "execute_result"
    }
   ],
   "source": [
    "horizal=thresh\n",
    "vertical=thresh \n",
    "\n",
    "scale_height=16  # xac dinh so dong doc\n",
    "scale_long=12\n",
    "\n",
    "height=int(img.shape[0]/scale_height)\n",
    "large = int(img.shape[1]/scale_long)\n",
    "\n",
    "print height,large\n",
    "\n",
    "\n",
    "horizalStructure=cv2.getStructuringElement(cv2.MORPH_RECT,(large,1))\n",
    "horizal=cv2.erode(horizal, horizalStructure,(-1,-1))\n",
    "horizal=cv2.dilate(horizal, horizalStructure,(-1,-1))\n",
    "\n",
    "verticalStructure=cv2.getStructuringElement(cv2.MORPH_RECT,(1,height))\n",
    "vertical=cv2.erode(vertical,verticalStructure,(-1,-1))\n",
    "vertical=cv2.dilate(vertical,verticalStructure,(-1,-1))\n",
    "\n",
    "mask=vertical+horizal\n",
    "\n",
    "cv2.imshow('abc',mask)\n",
    "cv2.waitKey()"
   ]
  },
  {
   "cell_type": "code",
   "execution_count": 24,
   "metadata": {},
   "outputs": [],
   "source": [
    "# tim vi tricua 1 obj trong anh\n",
    "#contours : lưu trữ các đường biên tìm được\n",
    "#hierarchy :  chứa thông tin về hình ảnh như số đường viền\n",
    "#CV_RETR_EXTERNAL : cờ nó chỉ lấy ra những đường biên bên ngoài\n",
    "# CV_CHAIN_APPROX_SIMPLE : nó sẽ nén đường viền trước khi lưu trữ\n",
    "_,contours, hierachy= cv2.findContours(mask,cv2.RETR_EXTERNAL,cv2.CHAIN_APPROX_SIMPLE)\n",
    "\n",
    "max=-1\n",
    "# tim khung hinh bao quanh max (khung dap an)  \n",
    "for contour in contours:\n",
    "    x,y,w,h= cv2.boundingRect(contour)\n",
    "    if cv2.contourArea(contour) >max :\n",
    "        x_max,y_max,w_max,h_max=x,y,w,h\n",
    "        max=cv2.contourArea(contour)\n",
    "        "
   ]
  },
  {
   "cell_type": "code",
   "execution_count": 25,
   "metadata": {},
   "outputs": [
    {
     "data": {
      "text/plain": [
       "255"
      ]
     },
     "execution_count": 25,
     "metadata": {},
     "output_type": "execute_result"
    }
   ],
   "source": [
    "table= img[y_max:y_max+h_max,x_max:x_max+w_max]\n",
    "\n",
    "cv2.imshow('acv',table)\n",
    "cv2.waitKey()\n"
   ]
  },
  {
   "cell_type": "code",
   "execution_count": 26,
   "metadata": {},
   "outputs": [
    {
     "name": "stdout",
     "output_type": "stream",
     "text": [
      "(38, 155)\n",
      "(37, 155)\n",
      "(38, 155)\n",
      "(37, 155)\n",
      "(38, 155)\n",
      "(37, 155)\n",
      "(38, 155)\n",
      "(37, 155)\n",
      "(38, 155)\n"
     ]
    }
   ],
   "source": [
    "cropped_thresh_img=[]\n",
    "cropped_origin_img=[]\n",
    "contours_img=[]\n",
    "\n",
    "num_row=10 # chia chieu doc thanh 10 dong, chia chieu ngang thanh 6 phan \n",
    "for i in range(1,num_row):\n",
    "    thresh1=thresh[y_max+int(i*h_max/num_row):y_max+int((i+1)*h_max/num_row),x_max+int(w_max/6):x_max+int(w_max/2)]\n",
    "    thresh1=cv2.resize(thresh1,(38,155), interpolation = cv2.INTER_AREA)\n",
    "    _,contours_thresh1,hierarchy_thresh1=cv2.findContours(thresh1,cv2.RETR_EXTERNAL,cv2.CHAIN_APPROX_SIMPLE)\n",
    "    origin1=img[y_max+int(i*h_max/num_row):y_max+int((i+1)*h_max/num_row),x_max+int(w_max/6):x_max+int(w_max/2)]\n",
    "    \n",
    "    cropped_thresh_img.append(thresh1)\n",
    "    cropped_origin_img.append(origin1)\n",
    "    contours_img.append(contours_thresh1)\n",
    "\n",
    "for i in range(1, num_row):\n",
    "    thresh1 = thresh[y_max + int(i*h_max/num_row):y_max + int((i+1)*h_max/num_row), x_max + int(2*w_max/3):x_max +int(w_max)]\n",
    "    _, contours_thresh1, hierarchy_thresh1 = cv2.findContours(thresh1,cv2.RETR_EXTERNAL,cv2.CHAIN_APPROX_SIMPLE)\n",
    "    origin1 = img[y_max + int(i*h_max/num_row):y_max + int((i+1)*h_max/num_row), x_max + int(2*w_max/3):x_max +int(w_max)]\n",
    "\n",
    "    cropped_thresh_img.append(thresh1)\n",
    "    cropped_origin_img.append(origin1)\n",
    "    contours_img.append(contours_thresh1)\n",
    "    \n",
    "    print(thresh1.shape) \n",
    "\n"
   ]
  },
  {
   "cell_type": "code",
   "execution_count": 27,
   "metadata": {},
   "outputs": [],
   "source": [
    "for i, contour_img in enumerate(contours_img):\n",
    "    for cnt in contour_img:\n",
    "        if cv2.contourArea(cnt) > 30:\n",
    "            x,y,w,h = cv2.boundingRect(cnt)\n",
    "            if x > cropped_origin_img[i].shape[1]*0.1 and x < cropped_origin_img[i].shape[1]*0.9:\n",
    "                answer = cropped_origin_img[i][y:y+h, x:x+w]\n",
    "                answer = cv2.threshold(answer, 160, 255, cv2.THRESH_BINARY_INV)[1]\n",
    "\n"
   ]
  },
  {
   "cell_type": "code",
   "execution_count": 29,
   "metadata": {},
   "outputs": [
    {
     "data": {
      "text/plain": [
       "255"
      ]
     },
     "execution_count": 29,
     "metadata": {},
     "output_type": "execute_result"
    }
   ],
   "source": [
    "\n",
    "cv2.imshow('asd',cropped_origin_img[12])\n",
    "cv2.waitKey()"
   ]
  },
  {
   "cell_type": "code",
   "execution_count": 26,
   "metadata": {},
   "outputs": [
    {
     "name": "stdout",
     "output_type": "stream",
     "text": [
      "Requirement already satisfied: tflearn in /usr/local/lib/python3.5/dist-packages\n",
      "Requirement already satisfied: numpy in /usr/local/lib/python3.5/dist-packages (from tflearn)\n",
      "Requirement already satisfied: six in /home/taibui/.local/lib/python3.5/site-packages (from tflearn)\n",
      "Requirement already satisfied: Pillow in /usr/lib/python3/dist-packages (from tflearn)\n",
      "\u001b[33mYou are using pip version 9.0.1, however version 18.0 is available.\n",
      "You should consider upgrading via the 'pip install --upgrade pip' command.\u001b[0m\n"
     ]
    }
   ],
   "source": [
    "!pip3 install tflearn "
   ]
  },
  {
   "cell_type": "code",
   "execution_count": 27,
   "metadata": {},
   "outputs": [
    {
     "ename": "ImportError",
     "evalue": "No module named tflearn",
     "output_type": "error",
     "traceback": [
      "\u001b[0;31m---------------------------------------------------------------------------\u001b[0m",
      "\u001b[0;31mImportError\u001b[0m                               Traceback (most recent call last)",
      "\u001b[0;32m<ipython-input-27-41cbcee323c7>\u001b[0m in \u001b[0;36m<module>\u001b[0;34m()\u001b[0m\n\u001b[1;32m      1\u001b[0m \u001b[0;32mimport\u001b[0m \u001b[0mtensorflow\u001b[0m \u001b[0;32mas\u001b[0m \u001b[0mtf\u001b[0m\u001b[0;34m\u001b[0m\u001b[0m\n\u001b[0;32m----> 2\u001b[0;31m \u001b[0;32mimport\u001b[0m \u001b[0mtflearn\u001b[0m\u001b[0;34m\u001b[0m\u001b[0m\n\u001b[0m\u001b[1;32m      3\u001b[0m \u001b[0;32mfrom\u001b[0m \u001b[0mtflearn\u001b[0m\u001b[0;34m.\u001b[0m\u001b[0mlayers\u001b[0m\u001b[0;34m.\u001b[0m\u001b[0mconv\u001b[0m \u001b[0;32mimport\u001b[0m \u001b[0mconv_2d\u001b[0m\u001b[0;34m,\u001b[0m \u001b[0mmax_pool_2d\u001b[0m\u001b[0;34m\u001b[0m\u001b[0m\n\u001b[1;32m      4\u001b[0m \u001b[0;32mfrom\u001b[0m \u001b[0mtflearn\u001b[0m\u001b[0;34m.\u001b[0m\u001b[0mlayers\u001b[0m\u001b[0;34m.\u001b[0m\u001b[0mcore\u001b[0m \u001b[0;32mimport\u001b[0m \u001b[0minput_data\u001b[0m\u001b[0;34m,\u001b[0m \u001b[0mdropout\u001b[0m\u001b[0;34m,\u001b[0m \u001b[0mfully_connected\u001b[0m\u001b[0;34m\u001b[0m\u001b[0m\n\u001b[1;32m      5\u001b[0m \u001b[0;34m\u001b[0m\u001b[0m\n",
      "\u001b[0;31mImportError\u001b[0m: No module named tflearn"
     ]
    }
   ],
   "source": [
    "import tensorflow as tf\n",
    "import tflearn\n",
    "from tflearn.layers.conv import conv_2d, max_pool_2d\n",
    "from tflearn.layers.core import input_data, dropout, fully_connected\n",
    "\n",
    "network = input_data(shape=[None, IMG_SIZE, IMG_SIZE, 1])\n",
    "\n",
    "network = conv_2d(network, 32, 3, activation='relu')\n",
    "network = max_pool_2d(network, 2)\n",
    "\n",
    "network = conv_2d(network, 64, 3, activation='relu')\n",
    "network = max_pool_2d(network, 2)\n",
    "\n",
    "network = conv_2d(network, 32, 3, activation='relu')\n",
    "network = max_pool_2d(network, 2)\n",
    "\n",
    "network = conv_2d(network, 64, 3, activation='relu')\n",
    "network = max_pool_2d(network, 2)\n",
    "\n",
    "network = conv_2d(network, 32, 3, activation='relu')\n",
    "network = max_pool_2d(network, 2)\n",
    "\n",
    "network = conv_2d(network, 64, 3, activation='relu')\n",
    "network = max_pool_2d(network, 2)\n",
    "\n",
    "network = fully_connected(network, 1024, activation='relu')\n",
    "network = dropout(network, 0.8)\n",
    "\n",
    "network = fully_connected(network, N_CLASSES, activation='softmax')\n",
    "network = regression(network)\n",
    "\n",
    "model = tflearn.DNN(network)"
   ]
  },
  {
   "cell_type": "code",
   "execution_count": null,
   "metadata": {},
   "outputs": [],
   "source": []
  }
 ],
 "metadata": {
  "kernelspec": {
   "display_name": "Python 3",
   "language": "python",
   "name": "python3"
  },
  "language_info": {
   "codemirror_mode": {
    "name": "ipython",
    "version": 2
   },
   "file_extension": ".py",
   "mimetype": "text/x-python",
   "name": "python",
   "nbconvert_exporter": "python",
   "pygments_lexer": "ipython2",
   "version": "2.7.12"
  }
 },
 "nbformat": 4,
 "nbformat_minor": 2
}
